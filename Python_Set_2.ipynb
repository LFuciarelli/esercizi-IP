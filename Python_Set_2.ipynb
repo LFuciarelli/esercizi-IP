{
  "nbformat": 4,
  "nbformat_minor": 0,
  "metadata": {
    "colab": {
      "name": "Python_Set-2.ipynb",
      "provenance": [],
      "include_colab_link": true
    },
    "kernelspec": {
      "name": "python3",
      "display_name": "Python 3"
    }
  },
  "cells": [
    {
      "cell_type": "markdown",
      "metadata": {
        "id": "view-in-github",
        "colab_type": "text"
      },
      "source": [
        "<a href=\"https://colab.research.google.com/github/LFuciarelli/esercizi-IP/blob/master/Python_Set_2.ipynb\" target=\"_parent\"><img src=\"https://colab.research.google.com/assets/colab-badge.svg\" alt=\"Open In Colab\"/></a>"
      ]
    },
    {
      "cell_type": "markdown",
      "metadata": {
        "id": "GnMFYUxlGeJY"
      },
      "source": [
        "# Insiemi in Python"
      ]
    },
    {
      "cell_type": "markdown",
      "metadata": {
        "id": "I-RfDhDiGkop"
      },
      "source": [
        "In Python, Set is an unordered collection of data type that is iterable, mutable and has no duplicate elements. "
      ]
    },
    {
      "cell_type": "code",
      "metadata": {
        "id": "pj4n8JqjGawN",
        "outputId": "55bad29b-c57c-413a-f5c0-0ccc7501dec2",
        "colab": {
          "base_uri": "https://localhost:8080/"
        }
      },
      "source": [
        "# Creare l'insieme non vuoto {0, 5, 2, 7, 11}. Stampare tutti gli elementi.\n",
        "\n",
        "X = {0, 5, 2, 7, 11}\n",
        "\n",
        "# print(X)\n",
        "\n",
        "for i in X:\n",
        "  print(i)"
      ],
      "execution_count": null,
      "outputs": [
        {
          "output_type": "stream",
          "text": [
            "0\n",
            "2\n",
            "5\n",
            "7\n",
            "11\n"
          ],
          "name": "stdout"
        }
      ]
    },
    {
      "cell_type": "code",
      "metadata": {
        "id": "-iej9exVG02y",
        "outputId": "dbfeb223-a421-442d-d1f2-c13e7b96db86",
        "colab": {
          "base_uri": "https://localhost:8080/"
        }
      },
      "source": [
        "# aggiungere l'elemento 5\n",
        " \n",
        "X.add(5)\n",
        " \n",
        "print(X)"
      ],
      "execution_count": null,
      "outputs": [
        {
          "output_type": "stream",
          "text": [
            "{0, 2, 5, 7, 11}\n"
          ],
          "name": "stdout"
        }
      ]
    },
    {
      "cell_type": "code",
      "metadata": {
        "id": "xEoW3EBQG3aq"
      },
      "source": [
        "# eliminare l'elemento 7\n",
        "\n",
        "X.remove(7)"
      ],
      "execution_count": null,
      "outputs": []
    },
    {
      "cell_type": "code",
      "metadata": {
        "id": "vSazh6yiHH7K",
        "outputId": "99128f55-e37e-4591-bf33-d7bbeaa5e4c8",
        "colab": {
          "base_uri": "https://localhost:8080/"
        }
      },
      "source": [
        "# Dato l'insieme Y = {1, 3, 5, 11, 12, 15}, calcolare l'intersezione e l'unione di X e Y\n",
        "\n",
        "Y = {1, 3, 5, 11, 12, 15} \n",
        "\n",
        "intersezione = X & Y \n",
        "unione = X | Y\n",
        "\n",
        "print(intersezione)\n",
        "print(unione)"
      ],
      "execution_count": null,
      "outputs": [
        {
          "output_type": "stream",
          "text": [
            "{11, 5}\n",
            "{0, 1, 2, 3, 5, 11, 12, 15}\n"
          ],
          "name": "stdout"
        }
      ]
    },
    {
      "cell_type": "code",
      "metadata": {
        "id": "3GUbLi-kHSNd",
        "outputId": "50f1deef-1c17-45e5-ebdc-1ab1d2cd1712",
        "colab": {
          "base_uri": "https://localhost:8080/"
        }
      },
      "source": [
        "# Calcolare la differenza di X e Y e di Y e X poi l'intersezione delle due differenze.\n",
        "\n",
        "diff1 = X - Y\n",
        "diff2 = Y - X\n",
        "\n",
        "print(diff1)\n",
        "print(diff2)\n",
        "\n",
        "print(diff1 & diff2)\n",
        "print(diff1.isdisjoint(diff2))"
      ],
      "execution_count": null,
      "outputs": [
        {
          "output_type": "stream",
          "text": [
            "{0, 2}\n",
            "{1, 3, 12, 15}\n",
            "set()\n",
            "True\n"
          ],
          "name": "stdout"
        }
      ]
    },
    {
      "cell_type": "markdown",
      "metadata": {
        "id": "N4xYoCWfImjH"
      },
      "source": [
        "**Esercizio**"
      ]
    },
    {
      "cell_type": "markdown",
      "metadata": {
        "id": "JPySL5riIe-T"
      },
      "source": [
        "![symmetric.png](data:image/png;base64,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)"
      ]
    },
    {
      "cell_type": "code",
      "metadata": {
        "id": "1YuVI34OHatH",
        "outputId": "c7be8db4-6979-490a-921d-3b60bce18463",
        "colab": {
          "base_uri": "https://localhost:8080/"
        }
      },
      "source": [
        "# Dati gli insieme A = {5, 4, 10, 18, 73, 9} e B = {18, 16, 10, 9, 4} calcolare \n",
        "# l'insieme costituito dagli elementi che appartengono in modo esclusivo ad A o a B,\n",
        "# come mostrato in figura.\n",
        "A = {5, 4, 10, 18, 73, 9}\n",
        "B = {18, 16, 10, 9, 4}\n",
        "insieme = (A | B) - (A & B)\n",
        "print(insieme)\n",
        "\n"
      ],
      "execution_count": null,
      "outputs": [
        {
          "output_type": "stream",
          "text": [
            "{16, 73, 5}\n"
          ],
          "name": "stdout"
        }
      ]
    },
    {
      "cell_type": "code",
      "metadata": {
        "id": "z-YexQ88IxVe",
        "outputId": "2f0f3230-5f17-4a64-aea8-642a54407bdf",
        "colab": {
          "base_uri": "https://localhost:8080/"
        }
      },
      "source": [
        "# In realtà esiste già un metodo di classe! per calcolare la symmetric difference\n",
        "\n",
        "A = {5, 4, 10, 18, 73, 9} \n",
        "B = {18, 16, 10, 9, 4}\n",
        "\n",
        "C = A ^ B\n",
        "\n",
        "print(C)"
      ],
      "execution_count": null,
      "outputs": [
        {
          "output_type": "stream",
          "text": [
            "{16, 73, 5}\n"
          ],
          "name": "stdout"
        }
      ]
    },
    {
      "cell_type": "markdown",
      "metadata": {
        "id": "_VwG1WvBH3Ge"
      },
      "source": [
        "Proviamo a lavorare con la definizione di insieme proprio."
      ]
    },
    {
      "cell_type": "code",
      "metadata": {
        "id": "yi7T5g2bH62N",
        "outputId": "4b5401f2-6feb-4377-83ae-3863236e59d0",
        "colab": {
          "base_uri": "https://localhost:8080/"
        }
      },
      "source": [
        "a = {1,2,3,4,5}\n",
        "b = {3,4,5}\n",
        "\n",
        "b.issubset(a)"
      ],
      "execution_count": null,
      "outputs": [
        {
          "output_type": "execute_result",
          "data": {
            "text/plain": [
              "True"
            ]
          },
          "metadata": {
            "tags": []
          },
          "execution_count": 21
        }
      ]
    },
    {
      "cell_type": "code",
      "metadata": {
        "id": "_7dN2tcJH_8h",
        "outputId": "6ee4ab94-6498-4f17-9112-50668dedf890",
        "colab": {
          "base_uri": "https://localhost:8080/"
        }
      },
      "source": [
        "a = {1,2,3,4,5}\n",
        "b = set() # insieme vuoto\n",
        "\n",
        "b.issubset(a) # True\n",
        "a.issubset(a) # True\n",
        "\n",
        "# sono sottoinsiemi impropri! issubset non è il metodo esatto per i sottoinsiemi propri "
      ],
      "execution_count": null,
      "outputs": [
        {
          "output_type": "execute_result",
          "data": {
            "text/plain": [
              "True"
            ]
          },
          "metadata": {
            "tags": []
          },
          "execution_count": 22
        }
      ]
    },
    {
      "cell_type": "code",
      "metadata": {
        "id": "c987BNVOIQ_y",
        "outputId": "0b2e2143-e4d2-42af-a4bd-dfb69a34812f",
        "colab": {
          "base_uri": "https://localhost:8080/"
        }
      },
      "source": [
        "a = {1,2,3,4,5}\n",
        "b = {3,4,5}\n",
        "c = a.issuperset(b)\n",
        "\n",
        "print(c) # True\n",
        "\n",
        "d = a.issuperset(a)\n",
        "\n",
        "print(d) # True\n"
      ],
      "execution_count": null,
      "outputs": [
        {
          "output_type": "stream",
          "text": [
            "True\n",
            "True\n"
          ],
          "name": "stdout"
        }
      ]
    },
    {
      "cell_type": "markdown",
      "metadata": {
        "id": "8iE-3YHzJAPO"
      },
      "source": [
        "**Esercizio** Definire una funzione Python che, presi in argomento due insiemi A e B, restituisca True se A è sottoinsieme proprio di B, False altrimenti."
      ]
    },
    {
      "cell_type": "code",
      "metadata": {
        "id": "rI062F2JHquJ",
        "outputId": "15d8a038-acea-4c51-c453-e6b76d752246",
        "colab": {
          "base_uri": "https://localhost:8080/"
        }
      },
      "source": [
        "def issubsetB():\n",
        "    if (A == B or A == set()):\n",
        "        return False\n",
        "    for e in A:\n",
        "      if e not in B:\n",
        "          return False\n",
        "    return True\n",
        "\n",
        "A = set()\n",
        "B = {1, 2, 3}\n",
        "print(issubsetB())"
      ],
      "execution_count": null,
      "outputs": [
        {
          "output_type": "stream",
          "text": [
            "False\n"
          ],
          "name": "stdout"
        }
      ]
    },
    {
      "cell_type": "markdown",
      "metadata": {
        "id": "FpMFJlBCJUeV"
      },
      "source": [
        "Prodotto cartesiano tra insiemi."
      ]
    },
    {
      "cell_type": "code",
      "metadata": {
        "id": "q6y2Tim8JWLr",
        "outputId": "a4cb7b7e-535c-4cad-d09d-bfb65671bd63",
        "colab": {
          "base_uri": "https://localhost:8080/"
        }
      },
      "source": [
        "# Calcolare il prodotto cartesiano tra X e Y\n",
        "\n",
        "prodotto = set()\n",
        "\n",
        "for y in Y:\n",
        "  for x in X:\n",
        "    prodotto.add((x,y))\n",
        "\n",
        "print(prodotto)\n"
      ],
      "execution_count": null,
      "outputs": [
        {
          "output_type": "stream",
          "text": [
            "{(11, 11), (2, 1), (2, 12), (5, 1), (2, 5), (0, 3), (5, 5), (0, 15), (11, 5), (5, 12), (0, 11), (11, 1), (5, 11), (0, 12), (5, 15), (2, 3), (0, 5), (11, 12), (5, 3), (0, 1), (2, 11), (11, 3), (2, 15), (11, 15)}\n"
          ],
          "name": "stdout"
        }
      ]
    },
    {
      "cell_type": "code",
      "metadata": {
        "id": "pR-Wir6gJfz2",
        "outputId": "e9110bb6-bdb9-4b6f-a2c6-54a1d9aa8b93",
        "colab": {
          "base_uri": "https://localhost:8080/"
        }
      },
      "source": [
        "prodotto2 = {(x,y) for x in X for y in Y} # con set comprehension \n",
        "\n",
        "print(prodotto2) "
      ],
      "execution_count": null,
      "outputs": [
        {
          "output_type": "stream",
          "text": [
            "{(11, 11), (2, 1), (2, 12), (5, 1), (2, 5), (0, 3), (5, 5), (0, 15), (11, 5), (5, 12), (0, 11), (11, 1), (5, 11), (0, 12), (5, 15), (0, 5), (2, 3), (11, 12), (5, 3), (0, 1), (2, 11), (11, 3), (2, 15), (11, 15)}\n"
          ],
          "name": "stdout"
        }
      ]
    },
    {
      "cell_type": "code",
      "metadata": {
        "id": "n3woPL_3JjpW",
        "outputId": "e79c38b1-f69e-412d-9547-2af9329cb4ba",
        "colab": {
          "base_uri": "https://localhost:8080/"
        }
      },
      "source": [
        "prodotto == prodotto2 #verifica se i due set sono uguali"
      ],
      "execution_count": null,
      "outputs": [
        {
          "output_type": "execute_result",
          "data": {
            "text/plain": [
              "True"
            ]
          },
          "metadata": {
            "tags": []
          },
          "execution_count": 27
        }
      ]
    },
    {
      "cell_type": "markdown",
      "metadata": {
        "id": "A_5IQWzgJnAi"
      },
      "source": [
        "--> set equality comparison just takes into account if the two sets share the exact same elements, regardless of order. And that brings us to the next point – there’s no indexing with sets. This means there’s no such thing as the “first” element or “second element”, etc."
      ]
    },
    {
      "cell_type": "code",
      "metadata": {
        "id": "X4YFWU2QJoGu",
        "outputId": "7081b208-572e-4504-da27-c4433ab8020b",
        "colab": {
          "base_uri": "https://localhost:8080/"
        }
      },
      "source": [
        "# con le liste infatti..\n",
        "\n",
        "lista1 = [1, 3, 2]\n",
        "lista2 = [1, 2, 3]\n",
        "\n",
        "print(lista1 == lista2)\n",
        "\n",
        "print(lista1[1])"
      ],
      "execution_count": null,
      "outputs": [
        {
          "output_type": "stream",
          "text": [
            "False\n",
            "3\n"
          ],
          "name": "stdout"
        }
      ]
    },
    {
      "cell_type": "markdown",
      "metadata": {
        "id": "aupNOY4LJsBq"
      },
      "source": [
        "Prodotto cartesiano con generatori.."
      ]
    },
    {
      "cell_type": "code",
      "metadata": {
        "id": "z1bALknwJt5S",
        "outputId": "05966f4c-4a75-4851-d314-bb9fed758c39",
        "colab": {
          "base_uri": "https://localhost:8080/"
        }
      },
      "source": [
        "prod = ((x,y) for x in X for y in Y) # con generator expression \n",
        "\n",
        "print(prod) # Instead of creating a list and keeping the whole sequence in the memory, the generator generates the next element in demand.\n"
      ],
      "execution_count": null,
      "outputs": [
        {
          "output_type": "stream",
          "text": [
            "<generator object <genexpr> at 0x7f9139458830>\n"
          ],
          "name": "stdout"
        }
      ]
    },
    {
      "cell_type": "code",
      "metadata": {
        "id": "PgsMRQNYJw3W",
        "outputId": "bcf86e2b-600f-4d60-d175-5f4f2c3772ef",
        "colab": {
          "base_uri": "https://localhost:8080/"
        }
      },
      "source": [
        "print(prod)\n",
        "\n",
        "prod.__next__()\n",
        "\n",
        "#for m in prod:\n",
        " # print(m)"
      ],
      "execution_count": null,
      "outputs": [
        {
          "output_type": "stream",
          "text": [
            "<generator object <genexpr> at 0x7f9139458830>\n"
          ],
          "name": "stdout"
        },
        {
          "output_type": "execute_result",
          "data": {
            "text/plain": [
              "(0, 1)"
            ]
          },
          "metadata": {
            "tags": []
          },
          "execution_count": 34
        }
      ]
    },
    {
      "cell_type": "markdown",
      "metadata": {
        "id": "ojQ0aCeqlOLG"
      },
      "source": [
        "In realtà esiste un metodo della libreria Itertools che calcola il prodotto cartesiano (in una riga di codice!)"
      ]
    },
    {
      "cell_type": "code",
      "metadata": {
        "id": "cS2cKn3ZJ9pF"
      },
      "source": [
        "# prodotto cartesiano utilizzando il metodo product della libreria Itertools\n",
        "\n",
        "import itertools\n",
        "\n",
        "prod2 = itertools.product(X, Y) "
      ],
      "execution_count": null,
      "outputs": []
    },
    {
      "cell_type": "markdown",
      "metadata": {
        "id": "fy6xEXVFKCkr"
      },
      "source": [
        "\"\"Ordinare\"\" i set?"
      ]
    },
    {
      "cell_type": "code",
      "metadata": {
        "id": "6oTvAn_GJ_yK",
        "outputId": "ac0e5205-fae0-41b8-cec2-929fd2c9aaa7",
        "colab": {
          "base_uri": "https://localhost:8080/"
        }
      },
      "source": [
        "DataScience = {'Python', 'R', 'SQL', 'Tableau', 'Neo4j'} \n",
        "\n",
        "for i in DataScience:\n",
        "  print(i)"
      ],
      "execution_count": null,
      "outputs": [
        {
          "output_type": "stream",
          "text": [
            "Neo4j\n",
            "R\n",
            "Python\n",
            "SQL\n",
            "Tableau\n"
          ],
          "name": "stdout"
        }
      ]
    },
    {
      "cell_type": "code",
      "metadata": {
        "id": "BiEvGwG3KT3F",
        "outputId": "ed275b88-31ae-4e7c-8092-347f84a253b0",
        "colab": {
          "base_uri": "https://localhost:8080/"
        }
      },
      "source": [
        "#  utilizzando sorted..\n",
        "\n",
        "sorted_DataScience = sorted(DataScience, reverse = False)\n",
        "\n",
        "print(sorted_DataScience)"
      ],
      "execution_count": null,
      "outputs": [
        {
          "output_type": "stream",
          "text": [
            "['Neo4j', 'Python', 'R', 'SQL', 'Tableau']\n"
          ],
          "name": "stdout"
        }
      ]
    },
    {
      "cell_type": "code",
      "metadata": {
        "id": "67hyXuc4Kdea",
        "outputId": "467616dd-5531-4417-9f79-ddbfb0d7aa76",
        "colab": {
          "base_uri": "https://localhost:8080/"
        }
      },
      "source": [
        "type(sorted_DataScience) # ma non è un set! Ecco il trucco"
      ],
      "execution_count": null,
      "outputs": [
        {
          "output_type": "execute_result",
          "data": {
            "text/plain": [
              "list"
            ]
          },
          "metadata": {
            "tags": []
          },
          "execution_count": 42
        }
      ]
    },
    {
      "cell_type": "code",
      "metadata": {
        "id": "ZQbpT23WKjLr",
        "outputId": "f86e9048-b873-4d39-a36d-f3f72878de66",
        "colab": {
          "base_uri": "https://localhost:8080/"
        }
      },
      "source": [
        "print(set(sorted_DataScience)) # Si perde l'ordine!! Quindi per mantenere l'ordine bisogna usare un'altra struttura dati (le liste)"
      ],
      "execution_count": null,
      "outputs": [
        {
          "output_type": "stream",
          "text": [
            "{'Neo4j', 'R', 'Python', 'SQL', 'Tableau'}\n"
          ],
          "name": "stdout"
        }
      ]
    },
    {
      "cell_type": "markdown",
      "metadata": {
        "id": "ucpLhcgnK0pG"
      },
      "source": [
        "# Perché usare gli insiemi?\n",
        "\n",
        "I Python set sono molto efficienti per alcune operazioni, come l'eliminazione di duplicati."
      ]
    },
    {
      "cell_type": "code",
      "metadata": {
        "id": "zClcKqG3K_DT",
        "outputId": "8c41c6c9-ed5f-4443-f222-9edfd4fe093c",
        "colab": {
          "base_uri": "https://localhost:8080/"
        }
      },
      "source": [
        "my_list = [1, 2, 4, 1, 13]\n",
        "\n",
        "print(list(set(my_list)))"
      ],
      "execution_count": null,
      "outputs": [
        {
          "output_type": "stream",
          "text": [
            "[1, 2, 4, 13]\n"
          ],
          "name": "stdout"
        }
      ]
    },
    {
      "cell_type": "code",
      "metadata": {
        "id": "6zJnu4PTLDGf",
        "outputId": "b4ec8eb5-0459-40fe-abcd-de6dcb1dd226",
        "colab": {
          "base_uri": "https://localhost:8080/"
        }
      },
      "source": [
        "def remove_duplicates(original):\n",
        "    unique = []\n",
        "    [unique.append(n) for n in original if n not in unique]\n",
        "    return(unique)\n",
        "    \n",
        "print(remove_duplicates([1, 2, 3, 1, 7]))"
      ],
      "execution_count": null,
      "outputs": [
        {
          "output_type": "stream",
          "text": [
            "[1, 2, 3, 7]\n"
          ],
          "name": "stdout"
        }
      ]
    },
    {
      "cell_type": "code",
      "metadata": {
        "id": "ZhcGhZmpLHUs",
        "outputId": "31e00dfe-c03a-437b-86c2-c81004b048ff",
        "colab": {
          "base_uri": "https://localhost:8080/"
        }
      },
      "source": [
        "import timeit\n",
        "# Approach 1: Execution time \n",
        "print(timeit.timeit('list(set([1, 2, 3, 1, 7]))', number=10000))\n",
        "# Approach 2: Execution time\n",
        "print(timeit.timeit('remove_duplicates([1, 2, 3, 1, 7])', globals=globals(), number=10000))"
      ],
      "execution_count": null,
      "outputs": [
        {
          "output_type": "stream",
          "text": [
            "0.006258927000089898\n",
            "0.011382251999975779\n"
          ],
          "name": "stdout"
        }
      ]
    },
    {
      "cell_type": "markdown",
      "metadata": {
        "id": "MyDxZq-5LJXc"
      },
      "source": [
        "Il confronto mostra che l'utilizzo dei set è più efficiente. Anche se può sembrare una differenza trascurabile su grandi quantità di dati fa la differenza!"
      ]
    },
    {
      "cell_type": "markdown",
      "metadata": {
        "id": "b9r5SHLxLWN8"
      },
      "source": [
        "Altro vantaggio: **Membership Tests**\n",
        "\n",
        "In particolare, i Python set svolgono questa funziona in modo molto più efficiente rispetto alle liste.\n",
        "\n",
        "In Python esiste l'operatore \"in\" [not in] per verificare l'appartenenza [non appartenenza] di un elemento ad una lista o a un insieme.\n",
        "\n",
        "es: \n",
        "```\n",
        "A = [1, 4, 6, 7] # list\n",
        "5 in A # False\n",
        "6 in A # True\n",
        "2 not in A # True \n",
        "```"
      ]
    },
    {
      "cell_type": "markdown",
      "metadata": {
        "id": "mZstewKaMEpg"
      },
      "source": [
        "..**this is because the average case time complexity of membership tests in sets are O(1) vs O(n) for lists**.."
      ]
    },
    {
      "cell_type": "code",
      "metadata": {
        "id": "IFwQ03_KL_yb",
        "outputId": "52ac0088-d795-4f58-c2bc-726cbff3cfc8",
        "colab": {
          "base_uri": "https://localhost:8080/",
          "height": 253
        }
      },
      "source": [
        "# esercizio proposto: fare una prova utilizzando come prima la libreria timeit\n",
        "import timeit\n",
        "A = [1, 4, 6, 7]\n",
        "print(timeit.timeit('5 in A', number=10000))\n"
      ],
      "execution_count": null,
      "outputs": [
        {
          "output_type": "error",
          "ename": "NameError",
          "evalue": "ignored",
          "traceback": [
            "\u001b[0;31m---------------------------------------------------------------------------\u001b[0m",
            "\u001b[0;31mNameError\u001b[0m                                 Traceback (most recent call last)",
            "\u001b[0;32m<ipython-input-59-7e095d055dc0>\u001b[0m in \u001b[0;36m<module>\u001b[0;34m()\u001b[0m\n\u001b[1;32m      2\u001b[0m \u001b[0;32mimport\u001b[0m \u001b[0mtimeit\u001b[0m\u001b[0;34m\u001b[0m\u001b[0;34m\u001b[0m\u001b[0m\n\u001b[1;32m      3\u001b[0m \u001b[0mA\u001b[0m \u001b[0;34m=\u001b[0m \u001b[0;34m[\u001b[0m\u001b[0;36m1\u001b[0m\u001b[0;34m,\u001b[0m \u001b[0;36m4\u001b[0m\u001b[0;34m,\u001b[0m \u001b[0;36m6\u001b[0m\u001b[0;34m,\u001b[0m \u001b[0;36m7\u001b[0m\u001b[0;34m]\u001b[0m\u001b[0;34m\u001b[0m\u001b[0;34m\u001b[0m\u001b[0m\n\u001b[0;32m----> 4\u001b[0;31m \u001b[0mprint\u001b[0m\u001b[0;34m(\u001b[0m\u001b[0mtimeit\u001b[0m\u001b[0;34m.\u001b[0m\u001b[0mtimeit\u001b[0m\u001b[0;34m(\u001b[0m\u001b[0;34m'5 in A'\u001b[0m\u001b[0;34m,\u001b[0m \u001b[0mnumber\u001b[0m\u001b[0;34m=\u001b[0m\u001b[0;36m10000\u001b[0m\u001b[0;34m)\u001b[0m\u001b[0;34m)\u001b[0m\u001b[0;34m\u001b[0m\u001b[0;34m\u001b[0m\u001b[0m\n\u001b[0m",
            "\u001b[0;32m/usr/lib/python3.6/timeit.py\u001b[0m in \u001b[0;36mtimeit\u001b[0;34m(stmt, setup, timer, number, globals)\u001b[0m\n\u001b[1;32m    231\u001b[0m            number=default_number, globals=None):\n\u001b[1;32m    232\u001b[0m     \u001b[0;34m\"\"\"Convenience function to create Timer object and call timeit method.\"\"\"\u001b[0m\u001b[0;34m\u001b[0m\u001b[0;34m\u001b[0m\u001b[0m\n\u001b[0;32m--> 233\u001b[0;31m     \u001b[0;32mreturn\u001b[0m \u001b[0mTimer\u001b[0m\u001b[0;34m(\u001b[0m\u001b[0mstmt\u001b[0m\u001b[0;34m,\u001b[0m \u001b[0msetup\u001b[0m\u001b[0;34m,\u001b[0m \u001b[0mtimer\u001b[0m\u001b[0;34m,\u001b[0m \u001b[0mglobals\u001b[0m\u001b[0;34m)\u001b[0m\u001b[0;34m.\u001b[0m\u001b[0mtimeit\u001b[0m\u001b[0;34m(\u001b[0m\u001b[0mnumber\u001b[0m\u001b[0;34m)\u001b[0m\u001b[0;34m\u001b[0m\u001b[0;34m\u001b[0m\u001b[0m\n\u001b[0m\u001b[1;32m    234\u001b[0m \u001b[0;34m\u001b[0m\u001b[0m\n\u001b[1;32m    235\u001b[0m def repeat(stmt=\"pass\", setup=\"pass\", timer=default_timer,\n",
            "\u001b[0;32m/usr/lib/python3.6/timeit.py\u001b[0m in \u001b[0;36mtimeit\u001b[0;34m(self, number)\u001b[0m\n\u001b[1;32m    176\u001b[0m         \u001b[0mgc\u001b[0m\u001b[0;34m.\u001b[0m\u001b[0mdisable\u001b[0m\u001b[0;34m(\u001b[0m\u001b[0;34m)\u001b[0m\u001b[0;34m\u001b[0m\u001b[0;34m\u001b[0m\u001b[0m\n\u001b[1;32m    177\u001b[0m         \u001b[0;32mtry\u001b[0m\u001b[0;34m:\u001b[0m\u001b[0;34m\u001b[0m\u001b[0;34m\u001b[0m\u001b[0m\n\u001b[0;32m--> 178\u001b[0;31m             \u001b[0mtiming\u001b[0m \u001b[0;34m=\u001b[0m \u001b[0mself\u001b[0m\u001b[0;34m.\u001b[0m\u001b[0minner\u001b[0m\u001b[0;34m(\u001b[0m\u001b[0mit\u001b[0m\u001b[0;34m,\u001b[0m \u001b[0mself\u001b[0m\u001b[0;34m.\u001b[0m\u001b[0mtimer\u001b[0m\u001b[0;34m)\u001b[0m\u001b[0;34m\u001b[0m\u001b[0;34m\u001b[0m\u001b[0m\n\u001b[0m\u001b[1;32m    179\u001b[0m         \u001b[0;32mfinally\u001b[0m\u001b[0;34m:\u001b[0m\u001b[0;34m\u001b[0m\u001b[0;34m\u001b[0m\u001b[0m\n\u001b[1;32m    180\u001b[0m             \u001b[0;32mif\u001b[0m \u001b[0mgcold\u001b[0m\u001b[0;34m:\u001b[0m\u001b[0;34m\u001b[0m\u001b[0;34m\u001b[0m\u001b[0m\n",
            "\u001b[0;32m/usr/lib/python3.6/timeit.py\u001b[0m in \u001b[0;36minner\u001b[0;34m(_it, _timer)\u001b[0m\n",
            "\u001b[0;31mNameError\u001b[0m: name 'A' is not defined"
          ]
        }
      ]
    },
    {
      "cell_type": "markdown",
      "metadata": {
        "id": "Pwb3Q0s5MQ5R"
      },
      "source": [
        "# Esercizi (da qui in poi lavorano da soli con noi in linea)"
      ]
    },
    {
      "cell_type": "markdown",
      "metadata": {
        "id": "edcWD-StMWKk"
      },
      "source": [
        "Utilizzando le **Set comprehension**: generare il **sottinsieme proprio** di W composto dai suoi **numeri pari**"
      ]
    },
    {
      "cell_type": "code",
      "metadata": {
        "id": "SnKdh1IOMTMP",
        "outputId": "f9160f58-b1a0-483d-cce0-176b6f75064d",
        "colab": {
          "base_uri": "https://localhost:8080/"
        }
      },
      "source": [
        "W = {1, 2, 3, 4, 5, 6, 7, 8, 9, 10, 11, 12, 13, 14, 15, 16} \n",
        "Wpari = {x for x in W if x % 2 == 0}\n",
        "print(Wpari)"
      ],
      "execution_count": null,
      "outputs": [
        {
          "output_type": "stream",
          "text": [
            "{2, 4, 6, 8, 10, 12, 14, 16}\n"
          ],
          "name": "stdout"
        }
      ]
    },
    {
      "cell_type": "markdown",
      "metadata": {
        "id": "KxdQLr5WMczI"
      },
      "source": [
        "Utilizzando set comprehension ricavare il sottinsieme delle parole con lunghezza <= 3"
      ]
    },
    {
      "cell_type": "code",
      "metadata": {
        "id": "wBckwI3CMhys",
        "outputId": "fb4264f3-0777-4c95-fbfc-97e9d4ecc15b",
        "colab": {
          "base_uri": "https://localhost:8080/"
        }
      },
      "source": [
        "words = {'and', 'cat', 'had', 'hat', 'in', 'one', 'sidekicks', 'the', 'thing', 'two', 'house', 'apple', 'orange', 'dot'}\n",
        "words3 = {w for w in words if len(w) >= 3}\n",
        "print(words3)\n"
      ],
      "execution_count": null,
      "outputs": [
        {
          "output_type": "stream",
          "text": [
            "{'orange', 'hat', 'the', 'sidekicks', 'and', 'had', 'apple', 'two', 'house', 'dot', 'thing', 'cat', 'one'}\n"
          ],
          "name": "stdout"
        }
      ]
    },
    {
      "cell_type": "markdown",
      "metadata": {
        "id": "1wS4r10uOAlb"
      },
      "source": [
        "# Esercizio Insieme delle Parti"
      ]
    },
    {
      "cell_type": "markdown",
      "metadata": {
        "id": "dw5fU7xTMkaU"
      },
      "source": [
        "Implementare una funzione Python che:\n",
        "- prendi in argomento un insieme A (per semplicità una lista)\n",
        "- generi come risultato l'insieme delle parti di A (come lista di tuple)\n",
        "\n",
        "Es:\n",
        "\n",
        "[1,2,3] --> [(), (1,), (2,), (3,), (1,2), (1,3), (2,3), (1,2,3)]\n",
        "\n",
        "Nota: i Python set sono un tipo di dato mutabile (= si possono aggiungere/eliminare elementi) che possono contenere solo **oggetti non mutabili**. In Python gli oggetti non mutabili sono gli int, float, complex, string ecc.\n",
        "Sono oggetti mutabili invece le liste, i set ecc.\n",
        "\n",
        "Quindi:\n",
        "\n",
        "```\n",
        "A = {1,2,3}\n",
        "B = {4,5}\n",
        "A.add(4) #ok, gli interi sono immutabili\n",
        "A.add([3,4,5]) # errore, le lista sono mutabile \n",
        "A.add(B) # errore, i set sono mutabili\n",
        "```\n",
        "**E' per questo motivo che ti suggeriamo di prendere come argomento una lista e di restituire come risultato un'altra lista (quindi di consideare, per questo esercizio, le liste come insiemi!)**\n",
        "\n"
      ]
    },
    {
      "cell_type": "code",
      "metadata": {
        "id": "O47jEP3DN6nq",
        "outputId": "7cb1df0e-1d47-41fe-b0d5-170a8a74bbe8",
        "colab": {
          "base_uri": "https://localhost:8080/"
        }
      },
      "source": [
        "# Per realizzare la funzione ti suggeriamo i metodi chain.from_iterable, combinations della libreria Itertools.\n",
        "# Leggi la documentazione qui: https://docs.python.org/3/library/itertools.html#itertools.chain.from_iterable\n",
        "\n",
        "from itertools import chain, combinations\n",
        "\n",
        "def insieme_delle_parti(lista):\n",
        "  insiemep = []\n",
        "  for i in range(len(lista)+1):\n",
        "    for e in (combinations(lista, i)):\n",
        "      insiemep.append(e)\n",
        "  return insiemep\n",
        "\n",
        "\n",
        "print(insieme_delle_parti([1, 2, 3]))\n"
      ],
      "execution_count": null,
      "outputs": [
        {
          "output_type": "stream",
          "text": [
            "[(), (1,), (2,), (3,), (1, 2), (1, 3), (2, 3), (1, 2, 3)]\n"
          ],
          "name": "stdout"
        }
      ]
    },
    {
      "cell_type": "markdown",
      "metadata": {
        "id": "WBJAh7HqOJHy"
      },
      "source": [
        "# Insieme delle Parti con Frozen Set\n",
        "\n",
        "In Python esiste il tipo di dato **non mutabile** built-in **Frozen Set**. E' un insieme non mutabile (una volta creato non puoi modificarlo).\n",
        "\n",
        "Documentazione ufficiale della classe frozen set: https://docs.python.org/3/library/stdtypes.html#frozenset"
      ]
    },
    {
      "cell_type": "code",
      "metadata": {
        "id": "vXNGHNICOcDP"
      },
      "source": [
        "# esempio frozen set\n",
        "\n",
        "lista = [1, 2, 3, 4]\n",
        "\n",
        "A = set(lista)\n",
        "\n",
        "B = frozenset(A)\n",
        "\n",
        "print(A.add(3))\n",
        "print(B.add(3)) # 'frozenset' object has no attribute 'add'"
      ],
      "execution_count": null,
      "outputs": []
    },
    {
      "cell_type": "markdown",
      "metadata": {
        "id": "UTu6hoZ8OftR"
      },
      "source": [
        "Riprendenre l'esercizio precedente, modificare la funzione *insieme_delle_parti* in modo da ottenere come risultato un set di frozen set (quindi un set di oggetti non mutabili di tipo frozen set). In questo modo il risultato sarà un \"vero\" insieme delle parti.\n"
      ]
    },
    {
      "cell_type": "code",
      "metadata": {
        "id": "2RHXtQuZajEe",
        "outputId": "927f6e16-e865-4ea3-8bda-72de327731e0",
        "colab": {
          "base_uri": "https://localhost:8080/"
        }
      },
      "source": [
        "from itertools import chain, combinations\n",
        "\n",
        "def insieme_delle_parti(lista):\n",
        "  insiemep = []\n",
        "  for i in range(len(lista)+1):\n",
        "    for e in (combinations(lista, i)):\n",
        "      insiemep.append(frozenset(e))\n",
        "  return set(insiemep)\n",
        "\n",
        "\n",
        "print(insieme_delle_parti([1, 2, 3]))"
      ],
      "execution_count": null,
      "outputs": [
        {
          "output_type": "stream",
          "text": [
            "{frozenset({2}), frozenset({2, 3}), frozenset({1, 2}), frozenset({1, 2, 3}), frozenset({3}), frozenset({1}), frozenset(), frozenset({1, 3})}\n"
          ],
          "name": "stdout"
        }
      ]
    },
    {
      "cell_type": "markdown",
      "metadata": {
        "id": "YFRt415nO6fe"
      },
      "source": [
        "# Dataframe come Insiemi! :-)\n",
        "\n",
        "La libreria Pandas, molto utilizzata nella data science, fornisce due tipi di dati molto utili: Series e Dataframe. \n",
        "\n",
        "- Series rappresenta dati 1D, come le serie temporali\n",
        "- DataFrame rappresenta dati 2D, praticamente qualunque insieme di dati in forma tabellare ed ogni colonna è una Series.\n",
        "\n",
        "A scopo didattico, proviamo a trattare i Pandas DataFrame come insiemi matematici.\n"
      ]
    },
    {
      "cell_type": "code",
      "metadata": {
        "id": "QE1LTHqPOpqo"
      },
      "source": [
        "import pandas as pd\n",
        "\n",
        "\n",
        "# Algebra students\n",
        "Alg = pd.DataFrame ({\"name\":[\"Chiara\",\"Daniele\", \"Giorgio\"],\n",
        "        \"email\":[\"chiara@xyz.com\",\"d@xyz.com\", \"g@xyz.com\"]})\n",
        "\n",
        "# ASD students\n",
        "Asd = pd.DataFrame ({\"name\":[\"Giovanna\",\"Chiara\"],\n",
        "        \"email\": [\"gg@xyz.com\",\"chiara@xyz.com\"]})"
      ],
      "execution_count": null,
      "outputs": []
    },
    {
      "cell_type": "code",
      "metadata": {
        "id": "z8ij1j7cPY4q"
      },
      "source": [
        "print(Alg)"
      ],
      "execution_count": null,
      "outputs": []
    },
    {
      "cell_type": "code",
      "metadata": {
        "id": "SiK7amw0PtMf"
      },
      "source": [
        "#differenza\n",
        "\n",
        "Alg_only = Alg[Alg.email.isin(Asd.email) == False]\n",
        "\n",
        "print(Alg_only)"
      ],
      "execution_count": null,
      "outputs": []
    },
    {
      "cell_type": "code",
      "metadata": {
        "id": "V3lt8uUGPwkw"
      },
      "source": [
        "# intersezione \n",
        "\n",
        "intersection = Alg.merge(Asd) \n",
        "print(intersection)"
      ],
      "execution_count": null,
      "outputs": []
    },
    {
      "cell_type": "markdown",
      "metadata": {
        "id": "OqTD8GRQr3hV"
      },
      "source": [
        "**Esercizio.** Determinare l'unione dei due dataframe Alg e Asd. Nota: non esiste il concetto di \"unione insiemistica\" in Pandas, attenzione ai duplicati!"
      ]
    },
    {
      "cell_type": "code",
      "metadata": {
        "id": "Pg9nIMf2Pcky"
      },
      "source": [
        "# Unione di due dataframe\n",
        "# Hint: cercare metodi concat e drop_duplicates() di Pandas\n",
        "\n"
      ],
      "execution_count": null,
      "outputs": []
    },
    {
      "cell_type": "markdown",
      "metadata": {
        "id": "3EQIN00Lw1V1"
      },
      "source": [
        "Prodotto cartesiano tra due dataframe (già risolto):"
      ]
    },
    {
      "cell_type": "code",
      "metadata": {
        "id": "8VSEvfwDzX2b"
      },
      "source": [
        "df1 = pd.DataFrame({'key':[1,1], 'col1':[1,2],'col2':[3,4]})\n",
        "df2 = pd.DataFrame({'key':[1,1], 'col3':[5,6]})\n",
        "\n",
        "print(df1)\n",
        "print(df2)\n",
        "pd.merge(df1, df2,on='key')[['col1', 'col2', 'col3']]"
      ],
      "execution_count": null,
      "outputs": []
    },
    {
      "cell_type": "markdown",
      "metadata": {
        "id": "V9euSWr81uEZ"
      },
      "source": [
        "Il **Join** è la combinazione del contenuto di due o più tabelle. In generale differisce dal prodotto cartesiano e non è l'unione insiemistica di due tabelle. \n",
        "Con il join le tabelle vengono in genere unite mediante dati condivisi.. "
      ]
    },
    {
      "cell_type": "code",
      "metadata": {
        "id": "Pl43mCyhuGvX"
      },
      "source": [
        "# Matricole\n",
        "matricole = pd.DataFrame ({\"Id\":[\"001\",\"002\", \"003\",\"004\"],\"name\":[\"Chiara\",\"Daniele\", \"Giorgio\",\"Giovanna\"],\n",
        "        \"email\":[\"chiara@xyz.com\",\"d@xyz.com\", \"g@xyz.com\", \"gg@yyy.com\"], \"IDcorsi\":[\"1\",\"2\", \"3\", \"null\"],})\n",
        "\n",
        "# Corsi\n",
        "corsi = pd.DataFrame ({\"Id\":[\"1\",\"2\",\"3\",\"4\"],\"name\":[\"Algebra\",\"IP\",\"ASD\",\"IDS\"]})\n",
        "\n",
        "\n",
        "\n",
        "result = pd.merge(matricole, corsi, how='inner', left_on = 'IDcorsi', right_on = 'Id')\n",
        "result"
      ],
      "execution_count": null,
      "outputs": []
    },
    {
      "cell_type": "code",
      "metadata": {
        "id": "4VqJ6uR1xFtq"
      },
      "source": [
        "# Provare altri tipi di join: sostituire \"inner\" con: \n",
        "\n",
        "# outer\n",
        "# left \n",
        "# right\n",
        "\n",
        "# Cosa succede? Perché?"
      ],
      "execution_count": null,
      "outputs": []
    },
    {
      "cell_type": "code",
      "metadata": {
        "id": "Z0krfgAOxmah"
      },
      "source": [
        "result = pd.merge(matricole, corsi, how='right', left_on = 'IDcorsi', right_on = 'Id')\n",
        "result"
      ],
      "execution_count": null,
      "outputs": []
    },
    {
      "cell_type": "code",
      "metadata": {
        "id": "s_1AwlxiySGw"
      },
      "source": [
        "result = pd.merge(matricole, corsi, left_on = 'IDcorsi', right_on = 'Id')\n",
        "result"
      ],
      "execution_count": null,
      "outputs": []
    },
    {
      "cell_type": "markdown",
      "metadata": {
        "id": "EAaSDl1q4esG"
      },
      "source": [
        "spoiler: I concetti di Join, prodotto cartesiano, union, e molto altro verranno ripresi in dettaglio al secondo anno all'interno del corso di **Basi di Dati**. E' molto importante avere una solida conoscenza sugli insiemi per capire l'algebra relazionale e SQL!"
      ]
    }
  ]
}