{
  "nbformat": 4,
  "nbformat_minor": 0,
  "metadata": {
    "colab": {
      "name": "Cópia de Funzioni_&_Definizioni_Induttive.ipynb",
      "provenance": [],
      "collapsed_sections": [],
      "include_colab_link": true
    },
    "kernelspec": {
      "name": "python3",
      "display_name": "Python 3"
    }
  },
  "cells": [
    {
      "cell_type": "markdown",
      "metadata": {
        "id": "view-in-github",
        "colab_type": "text"
      },
      "source": [
        "<a href=\"https://colab.research.google.com/github/LFuciarelli/esercizi-IP/blob/master/C%C3%B3pia_de_Funzioni_%26_Definizioni_Induttive.ipynb\" target=\"_parent\"><img src=\"https://colab.research.google.com/assets/colab-badge.svg\" alt=\"Open In Colab\"/></a>"
      ]
    },
    {
      "cell_type": "markdown",
      "metadata": {
        "id": "t5RlSedIFOyZ"
      },
      "source": [
        "**A cosa servono le funzioni**\n",
        "\n",
        "Nella programmazione funzioni e procedure possono essere viste come sottoprogrammi che aiutano nell'organizzazione del codice supportando:\n",
        "- modularità e riutilizzo di parti di codice (istanziate con i parametri)\n",
        "- suddivisione di un problema in sottoproblemi (blocchi) più semplici e ricomposizione poi dei risultati  (\"divide et conquer\")\n",
        "\n",
        "Possiamo però interpretare una definizione di funzione  anche in termini più astratti e ad esempio provare a definire algoritmi utilizzando definizioni basate sul principio di induzione (ricorsione)!\n",
        "\n",
        "In sintesi è un paradigma **alternativo ** alla programmazione imperativa (vedi linguaggi come CAML, LISP, Haskell, ecc)\n"
      ]
    },
    {
      "cell_type": "markdown",
      "metadata": {
        "id": "ge0wKfHeXboy"
      },
      "source": [
        "\n",
        "**Functional Python**\n",
        "\n",
        "Proviamo a ragionare sui diversi utilizzi delle funzioni e su operazioni e proprietà che avete visto nel corso di Algebra usando Python (per semplificare la sintassi).\n",
        "\n",
        "Le funzioni in Python si definiscono tramite la keyword \"def\" specificando il nome della funzione, la sequenza di parametri formali e il corpo della funzione.\n",
        "\n",
        "def F(x1,...,xn): corpo della funzione\n",
        "\n",
        "Il valore della funzione è specificato come argomento della chiamata alla funzione built-in \"return\"."
      ]
    },
    {
      "cell_type": "code",
      "metadata": {
        "id": "NvW4nlpuFHVY",
        "colab": {
          "base_uri": "https://localhost:8080/"
        },
        "outputId": "4fa00292-24d2-4ffb-f90c-a3c2cbcdca64"
      },
      "source": [
        "def raddoppia(x): \n",
        "  return x * 2\n",
        "\n",
        "def somma(x,y):\n",
        "  return x+y\n",
        "\n",
        "#tipo di raddoppia \n",
        "\n",
        "print(type(raddoppia))"
      ],
      "execution_count": null,
      "outputs": [
        {
          "output_type": "stream",
          "text": [
            "<class 'function'>\n"
          ],
          "name": "stdout"
        }
      ]
    },
    {
      "cell_type": "markdown",
      "metadata": {
        "id": "II7DcfqSFbcW"
      },
      "source": [
        "L'applicazione di una funzione F ad una serie di parametri X1, ... Xn è definita come F(X1,...,Xn). I parametri attuali vengono valutati per valori: si valutano come normali espressioni e poi si esegue il corpo della funzione sostituendo ai parametri formali i valori corrispondenti."
      ]
    },
    {
      "cell_type": "code",
      "metadata": {
        "id": "XGU6Il67FcEW",
        "colab": {
          "base_uri": "https://localhost:8080/"
        },
        "outputId": "a3e337de-71c1-4aef-d2b5-307f74e161a1"
      },
      "source": [
        "print(raddoppia(4))"
      ],
      "execution_count": null,
      "outputs": [
        {
          "output_type": "stream",
          "text": [
            "8\n"
          ],
          "name": "stdout"
        }
      ]
    },
    {
      "cell_type": "code",
      "metadata": {
        "id": "DIxvJb3jHX51",
        "colab": {
          "base_uri": "https://localhost:8080/"
        },
        "outputId": "71b8b6a4-4ce4-4a13-aafb-a26d6c42f95a"
      },
      "source": [
        "print(raddoppia(2*3)) #valuto 2*3 e poi valuto raddoppia(6)"
      ],
      "execution_count": null,
      "outputs": [
        {
          "output_type": "stream",
          "text": [
            "12\n"
          ],
          "name": "stdout"
        }
      ]
    },
    {
      "cell_type": "markdown",
      "metadata": {
        "id": "S6iG1pMoHyLZ"
      },
      "source": [
        "Le funzioni si possono manipolare come valori e passare quindi come parametri."
      ]
    },
    {
      "cell_type": "code",
      "metadata": {
        "id": "z0EpFXdHHYD-",
        "colab": {
          "base_uri": "https://localhost:8080/"
        },
        "outputId": "4c9e5224-f832-42fd-aef5-147a8592bba3"
      },
      "source": [
        "\n",
        "\n",
        "def applicazione(f,x): \n",
        "    return f(x)\n",
        "\n",
        "#print(applicazione(raddoppia,4))\n",
        "\n",
        "print(applicazione(lambda x : x*2, 4))\n"
      ],
      "execution_count": null,
      "outputs": [
        {
          "output_type": "stream",
          "text": [
            "8\n"
          ],
          "name": "stdout"
        }
      ]
    },
    {
      "cell_type": "markdown",
      "metadata": {
        "id": "WbOQM27LMT6Q"
      },
      "source": [
        "**Esercizio**\n",
        "\n",
        "Definite la funzione \"composizione(f,g)\" che restituisce la funzione ottenuta componendo f con g assumendo siano funzioni unarie."
      ]
    },
    {
      "cell_type": "code",
      "metadata": {
        "id": "vLRrmpSj7Wh5",
        "colab": {
          "base_uri": "https://localhost:8080/"
        },
        "outputId": "f0ecb323-1f75-4d52-b286-d7d5a45d07d7"
      },
      "source": [
        "def composizione(f, g):\r\n",
        "  return lambda x:f(g(x))\r\n",
        "\r\n",
        "def g(x):\r\n",
        "  return x+2\r\n",
        "\r\n",
        "def f(x):\r\n",
        "  return x-2\r\n",
        "\r\n",
        "print(composizione(f, g)(5))"
      ],
      "execution_count": 58,
      "outputs": [
        {
          "output_type": "stream",
          "text": [
            "5\n"
          ],
          "name": "stdout"
        }
      ]
    },
    {
      "cell_type": "markdown",
      "metadata": {
        "id": "dZzP_6AbJ6v6"
      },
      "source": [
        "#Funzioni iniettive\n",
        "\n",
        "![](https://www.laleggepertutti.it/wp-content/uploads/2017/10/codice-fiscale.jpg)"
      ]
    },
    {
      "cell_type": "code",
      "metadata": {
        "id": "PfMFzn8OadBC",
        "colab": {
          "base_uri": "https://localhost:8080/"
        },
        "outputId": "30a3d40c-2590-42e6-e9f3-3b3e930e1e87"
      },
      "source": [
        "#Identificatore univoco per ogni un utente\n",
        "\n",
        "lastid=-1\n",
        "dict={}\n",
        "\n",
        "def inserisci(utente):\n",
        "    global lastid\n",
        "    lastid+=1\n",
        "    dict[lastid]=utente\n",
        "\n",
        "inserisci('fabio')\n",
        "inserisci('daniele')\n",
        "inserisci('giorgio')\n",
        "\n",
        "dict"
      ],
      "execution_count": null,
      "outputs": [
        {
          "output_type": "execute_result",
          "data": {
            "text/plain": [
              "{0: 'fabio', 1: 'daniele', 2: 'giorgio'}"
            ]
          },
          "metadata": {
            "tags": []
          },
          "execution_count": 5
        }
      ]
    },
    {
      "cell_type": "code",
      "metadata": {
        "id": "uCqieUUHHYOI",
        "colab": {
          "base_uri": "https://localhost:8080/"
        },
        "outputId": "66dd46e2-5320-456d-cb78-07f2acbe8c88"
      },
      "source": [
        "#Indici degli array!!!\n",
        "\n",
        "h=[\"fabio\",\"daniele\",\"giorgio\"]\n",
        "for i in range(len(h)):\n",
        "  print(i,\"-->\",h[i])\n",
        "\n"
      ],
      "execution_count": null,
      "outputs": [
        {
          "output_type": "stream",
          "text": [
            "0 --> fabio\n",
            "1 --> daniele\n",
            "2 --> giorgio\n"
          ],
          "name": "stdout"
        }
      ]
    },
    {
      "cell_type": "code",
      "metadata": {
        "id": "TRdMBJh-Zrir",
        "colab": {
          "base_uri": "https://localhost:8080/"
        },
        "outputId": "5a33b7d4-5807-43d4-e838-471c609d2584"
      },
      "source": [
        "#Composizione di funzione = composizione di array\n",
        "\n",
        "p=[2,1,0] #permutazione\n",
        "\n",
        "for i in range(len(p)):\n",
        "  print(i,\"-->\",p[i], \"--->\",h[p[i]])\n",
        "\n",
        "#Ricorda la codifica di Alberti!"
      ],
      "execution_count": null,
      "outputs": [
        {
          "output_type": "stream",
          "text": [
            "0 --> 2 ---> giorgio\n",
            "1 --> 1 ---> daniele\n",
            "2 --> 0 ---> fabio\n"
          ],
          "name": "stdout"
        }
      ]
    },
    {
      "cell_type": "markdown",
      "metadata": {
        "id": "-HIMntAOMeWA"
      },
      "source": [
        "**Esempi di codifiche: Cifrario di Alberti (algoritmo crittografico)**\n",
        "\n",
        "In crittografia il disco cifrante di Leon Battista Alberti è il primo sistema di cifratura polialfabetica. L'apparecchio si compone di due dischi concentrici, rotanti uno rispetto all'altro, contenenti un alfabeto ordinato per il testo in chiaro (testo da cifrare) e un alfabeto disordinato per il testo cifrato (testo risultante). \n",
        "\n",
        "![Alberti](https://www.eleaml.org/immagini/disco_alberti.gif)\n",
        "\n",
        "\n",
        "Una versione semplificata consiste nell'utilizzare due dischi uguali spostando di K posizioni il disco interno.\n",
        "\n",
        "**Esercizio** \n",
        "\n",
        "Scrivete una funziona alberti(str,k) che applica la codifica di alberti con spostamento di K posizioni ad una stringa str in input."
      ]
    },
    {
      "cell_type": "code",
      "metadata": {
        "colab": {
          "base_uri": "https://localhost:8080/"
        },
        "id": "I3o9UBdx8JFg",
        "outputId": "9a398edf-5b2c-4a97-f88f-9ef712b095e9"
      },
      "source": [
        "def alberti(st, k):\r\n",
        "  s = str()\r\n",
        "  for i in range(len(st)):\r\n",
        "    if (i+k > len(st)-1):\r\n",
        "      index = i+k - len(st)\r\n",
        "    else:\r\n",
        "      index = i+k\r\n",
        "    s += st[index]\r\n",
        "  return s\r\n",
        "\r\n",
        "print(alberti(\"ABC\", 2))"
      ],
      "execution_count": 20,
      "outputs": [
        {
          "output_type": "stream",
          "text": [
            "ABC\n"
          ],
          "name": "stdout"
        }
      ]
    },
    {
      "cell_type": "markdown",
      "metadata": {
        "id": "RqoX5js5KCbA"
      },
      "source": [
        "#Funzione non-iniettiva: Hashing\n",
        "\n",
        "![Hashing](https://upload.wikimedia.org/wikipedia/commons/thumb/5/58/Hash_table_4_1_1_0_0_1_0_LL.svg/1200px-Hash_table_4_1_1_0_0_1_0_LL.svg.png)"
      ]
    },
    {
      "cell_type": "code",
      "metadata": {
        "id": "r-SgLasOKBfo",
        "colab": {
          "base_uri": "https://localhost:8080/"
        },
        "outputId": "1afdeabe-e228-4af4-b32b-e259e23e9602"
      },
      "source": [
        "#funzione di hashing (più utenti con stesso identificatore)\n",
        "def hashcode(user):\n",
        "    return (len(user))\n",
        "\n",
        "print(hashcode(\"Giorgio\"))\n",
        "print(hashcode(\"Daniele\"))\n",
        "print(hashcode(\"Diego\"))"
      ],
      "execution_count": null,
      "outputs": [
        {
          "output_type": "stream",
          "text": [
            "7\n",
            "7\n",
            "5\n"
          ],
          "name": "stdout"
        }
      ]
    },
    {
      "cell_type": "markdown",
      "metadata": {
        "id": "UbShjKnMK4UV"
      },
      "source": [
        "***Esercizio***\n",
        "\n",
        "Costruite una struttura dati (es dizionari) per rappresentare insiemi di stringhe attraverso il loro hashcode (quindi per ogni hashcode un'insieme di valori). "
      ]
    },
    {
      "cell_type": "code",
      "metadata": {
        "colab": {
          "base_uri": "https://localhost:8080/"
        },
        "id": "rV4rK0hbAy7w",
        "outputId": "7f5f6097-7ddb-462c-f240-e2a31a473e49"
      },
      "source": [
        "def hashcode(name):\r\n",
        "  return len(name)\r\n",
        "\r\n",
        "names = [\"Turing\", \"Babbage\", \"Lovelace\", \"Shannon\"]\r\n",
        "names_dict = {}\r\n",
        "for name in names:\r\n",
        "  n = hashcode(name)\r\n",
        "  if n in names_dict:\r\n",
        "    names_dict[n].append(name)\r\n",
        "  else:\r\n",
        "    names_dict[n] = [name]\r\n",
        "\r\n",
        "for key, value in names_dict.items():\r\n",
        "  print(key, value)\r\n",
        "  \r\n"
      ],
      "execution_count": 37,
      "outputs": [
        {
          "output_type": "stream",
          "text": [
            "6 ['Turing']\n",
            "7 ['Babbage', 'Shannon']\n",
            "8 ['Lovelace']\n"
          ],
          "name": "stdout"
        }
      ]
    },
    {
      "cell_type": "markdown",
      "metadata": {
        "id": "2Fu47egGaxso"
      },
      "source": [
        "#Definizioni ricorsive\n",
        "\n",
        "Le definizioni ricorsive di funzioni possono essere usate per scomporre un problema in sottoproblemi in accordo al principio *divide and conquer*. Tipicamente tali definizioni sono ben definite se prevedono un caso base e un passo induttivo come nel principio di induzione.\n",
        "\n",
        "In generale infatti una definizione ricorsiva ha questa forma\n",
        "\n",
        "F(X) = BASE(X) OPPURE PASSO(F,X)\n",
        "\n",
        "dove \n",
        "- BASE(X) non richiama F \n",
        "- PASSO(F,X) tipicamente definisce il valore di F(X) sulla base di valori \n",
        "  di F su valori \"minori\"/\"precedenti\"/\"già analizzati\" di F \n",
        "  \n",
        "\n",
        "Esempio consideriamo la funzione fattoriale\n",
        "\n",
        "Fattoriale(N) = N * N-1 * N-2 ... * 1\n",
        "\n",
        "Possiamo applicare divide and conquer ottenendo i seguenti 3 casi:\n",
        "\n",
        "BASE\n",
        "Fattoriale(1) = Fattoriale(0) = 1 \n",
        "\n",
        "PASSO\n",
        "Fattoriale(N) = N * Fattoriale(N-1) se N>1\n",
        "\n",
        "La correttezza di questa definzione, cioè Fattoriale(N)=N!, si dimostra per induzione sui numeri naturali.\n",
        "\n",
        "Base: \n",
        "Fattoriale(0)=1 vero\n",
        "Fattoriale(1)=1 vero \n",
        "\n",
        "Passo induttivo:\n",
        "Assumiamo che Fattoriale(N)=N! sia vero per N>=1\n",
        "allora Fattoriale(N+1)=N+1*Fattoriale(N)=(N+1)*N!=(N+1)! ancora vero\n",
        "\n",
        "Trasformiano la definizione in una funzione Python\n"
      ]
    },
    {
      "cell_type": "code",
      "metadata": {
        "id": "L6OMOMAGaupv",
        "colab": {
          "base_uri": "https://localhost:8080/"
        },
        "outputId": "7ab49cde-8dd7-4356-d025-fb9116b81af4"
      },
      "source": [
        "import math\n",
        "def fact(n):\n",
        "  if ((n==0) or (n==1)):\n",
        "    return 1\n",
        "  elif (n>1):\n",
        "    aux=fact(n-1)\n",
        "    return n*aux\n",
        "  else: \n",
        "    return -1\n",
        "\n",
        "x=4\n",
        "print(fact(x),math.factorial(x))"
      ],
      "execution_count": null,
      "outputs": [
        {
          "output_type": "stream",
          "text": [
            "24 24\n"
          ],
          "name": "stdout"
        }
      ]
    },
    {
      "cell_type": "markdown",
      "metadata": {
        "id": "61wdWmsVauye"
      },
      "source": [
        "Le funzioni ricorsive si basano sul modello a stack delle chiamate:\n",
        "\n",
        "**CALL STACK:**\n",
        "\n",
        "fact(4)\n",
        "\n",
        "fact(4) | fact(3)\n",
        "\n",
        "fact(4) | fact(3) | fact(2)\n",
        "\n",
        "fact(4) | fact(3) | fact(2) | fact(1)\n",
        "\n",
        "fact(4) | fact(3) | fact(2) | 1\n",
        "\n",
        "fact(4) | fact(3) | 2*1=2\n",
        "\n",
        "fact(4) | 3*2=6\n",
        "\n",
        "4*6=24\n",
        "\n",
        "In questo caso i calcoli vengono fatti quando si esce dalla chiamata e si prosegue l'esecuzione della chiamata di livello superiore (una sorta di albero di chiamate)\n",
        "\n",
        "Si possono fare programmi che effettutano calcoli prima e dopo una chiamata ricorsiva, che eseguono più chiamate ricorsive (es fibonacci), che eseguono chiamate mutuamente ricorsive (es f chiama g che richiama f)\n",
        "\n",
        "Ovviamente bisogna stare attenti alla terminazione (es inserire sempre un caso base)\n"
      ]
    },
    {
      "cell_type": "code",
      "metadata": {
        "id": "owuP9SjyctPm"
      },
      "source": [
        "def bomb(n):\n",
        "  return n*bomb(n-1)\n",
        "\n",
        "print(bomb(10))"
      ],
      "execution_count": null,
      "outputs": []
    },
    {
      "cell_type": "markdown",
      "metadata": {
        "id": "c5a4DW_BlOKj"
      },
      "source": [
        "#Ricorsione con array\n",
        "\n",
        "Altri esempi naturali di ricorsione sono legati ad operazioni su strutture dati come array dove si applica induzione sulla lunghezza/numero di elementi della struttura dati\n",
        "\n",
        "**Somma** \n",
        "\n",
        "Consideriamo la somma di elementi di una array L=[e1,...,en] di numeri\n",
        "\n",
        "Somma([])=0 \n",
        "Somma([e1,...,en])=e1+...+en\n",
        "\n",
        "Possiamo applicare divide et impera come segue\n",
        "\n",
        "RSomma(L)=\n",
        " 0 se L è vuota\n",
        " E+RSomma(L1) se E è il primo elemento di L e L1 è la coda di L\n",
        "\n",
        "La dimostrazione che RSomma(L)=Somma(L) è per induzione sulla lunghezza N di L\n",
        "\n",
        "Base:\n",
        "Immediato\n",
        "\n",
        "Passo induttivo:\n",
        "Assumiamo che sia vero per L' con lunghezza N-1 ....\n",
        "\n",
        "**Esercizio**\n",
        "\n",
        "Definite la funzione ricorsiva RSomma che dato un array A calcola la somma degli elementi in A\n"
      ]
    },
    {
      "cell_type": "code",
      "metadata": {
        "id": "Rkk-dJ-yau6l",
        "colab": {
          "base_uri": "https://localhost:8080/"
        },
        "outputId": "780e6a92-0d68-4e49-bd4d-f7327a499700"
      },
      "source": [
        "def RSomma(A):\n",
        "  if len(A) == 1:\n",
        "    return A[0]\n",
        "  return A[0]+RSomma(A[1:])\n",
        "\n",
        "print(RSomma([1, 2, 3]))"
      ],
      "execution_count": 21,
      "outputs": [
        {
          "output_type": "stream",
          "text": [
            "6\n"
          ],
          "name": "stdout"
        }
      ]
    },
    {
      "cell_type": "markdown",
      "metadata": {
        "id": "pS1oPwLSavCM"
      },
      "source": [
        "**Ricerca Binaria**\n",
        "\n",
        "Un'altro esempio è la ricerca per bisezione in una lista ordinata L=[e1,...en]\n",
        "\n",
        "binaria(X,L)=vero se \n",
        "  L= L1 X L2 (X = elemento medio) \n",
        "  oppure \n",
        "  L= L1 Y L2 (Y = elemento medio) \n",
        "    X < Y e binaria(X,L1)=vero\n",
        "    oppure\n",
        "    X > Y e binaria(X,L2)=vero\n",
        "\n",
        "La correttezza si dimostra per induzione (generale) sulla lunghezza della lista\n",
        "\n",
        "Base: \n",
        "Lista vuota immediato \n",
        "\n",
        "Passo induttivo: \n",
        "Assumiamo che binaria(X,L')=vero se X compare in L' per qualsiasi lista con lunghezza minore di L\n",
        "\n",
        "Se X è elemento medio --> vero\n",
        "\n",
        "Se L = L1 Y L2 allora applichiamo ipotesi induttiva\n",
        "\n",
        "**Esercizio**\n",
        "\n",
        "Definite la funzione ricorsiva \"binaria\" che dato un array A, un valore x,\n",
        "e due sentinelle inf e sup applica la def. induttiva descritta sopra per cercare x nell'array A"
      ]
    },
    {
      "cell_type": "code",
      "metadata": {
        "colab": {
          "base_uri": "https://localhost:8080/"
        },
        "id": "R8sjbqQ4GGb1",
        "outputId": "2158e7b6-3805-4d43-9285-0ea2d7da21d4"
      },
      "source": [
        "def binaria(A, x, inf, sup):\r\n",
        "  if inf <= sup:\r\n",
        "    m = inf+sup//2\r\n",
        "    if A[m] == x:\r\n",
        "      return True\r\n",
        "    elif x < A[m]:\r\n",
        "      return binaria(A, x, 0, m-1)\r\n",
        "    elif x > A[m]:\r\n",
        "      return binaria(A, x, m+1, len(A)-1)\r\n",
        "  return False\r\n",
        "\r\n",
        "array = [1, 2, 3, 4]\r\n",
        "print(binaria(array, 2, 0, len(array)-1))\r\n",
        "print(binaria(array, 6, 0, len(array)-1))\r\n"
      ],
      "execution_count": 54,
      "outputs": [
        {
          "output_type": "stream",
          "text": [
            "True\n",
            "False\n"
          ],
          "name": "stdout"
        }
      ]
    }
  ]
}